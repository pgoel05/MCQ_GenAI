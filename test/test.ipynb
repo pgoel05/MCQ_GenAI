{
 "cells": [
  {
   "cell_type": "code",
   "execution_count": 45,
   "metadata": {},
   "outputs": [],
   "source": [
    "from langchain_community.llms import OpenAI\n",
    "from langchain_openai import ChatOpenAI\n",
    "from langchain.prompts import PromptTemplate\n",
    "from langchain.chains import LLMChain, SequentialChain\n",
    "from langchain_community.callbacks import get_openai_callback\n",
    "import os\n",
    "import pandas as pd\n",
    "import json\n",
    "import traceback\n",
    "from dotenv import load_dotenv\n",
    "import PyPDF2"
   ]
  },
  {
   "cell_type": "code",
   "execution_count": 46,
   "metadata": {},
   "outputs": [],
   "source": [
    "llm = ChatOpenAI(model=\"gpt-3.5-turbo\",temperature=0.7)"
   ]
  },
  {
   "cell_type": "code",
   "execution_count": 47,
   "metadata": {},
   "outputs": [],
   "source": [
    "def openFile(fileName:str):\n",
    "    file_path = os.path.join(os.pardir, fileName)\n",
    "\n",
    "    try:\n",
    "        with open(file_path, 'r') as file:\n",
    "            data = file.read()\n",
    "            return data\n",
    "    except FileNotFoundError:\n",
    "        print(f\"The file {fileName} was not found in the project's main folder.\")"
   ]
  },
  {
   "cell_type": "code",
   "execution_count": 48,
   "metadata": {},
   "outputs": [
    {
     "name": "stdout",
     "output_type": "stream",
     "text": [
      "{\n",
      "    \"1\":{\n",
      "        \"no\":1,\n",
      "        \"mcq\":\"mutiple choice question\",\n",
      "        \"options\":{\n",
      "            \"a\": \"choice here\",\n",
      "            \"b\": \"choice here\",\n",
      "            \"c\": \"choice here\",\n",
      "            \"d\": \"choice here\"\n",
      "        },\n",
      "        \"correct\": \"correct answer\"\n",
      "    },\n",
      "    \"2\":{\n",
      "        \"no\":2,\n",
      "        \"mcq\":\"mutiple choice question\",\n",
      "        \"options\":{\n",
      "            \"a\": \"choice here\",\n",
      "            \"b\": \"choice here\",\n",
      "            \"c\": \"choice here\",\n",
      "            \"d\": \"choice here\"\n",
      "        },\n",
      "        \"correct\": \"correct answer\"\n",
      "    },\n",
      "    \"3\":{\n",
      "        \"no\":3,\n",
      "        \"mcq\":\"mutiple choice question\",\n",
      "        \"options\":{\n",
      "            \"a\": \"choice here\",\n",
      "            \"b\": \"choice here\",\n",
      "            \"c\": \"choice here\",\n",
      "            \"d\": \"choice here\"\n",
      "        },\n",
      "        \"correct\": \"correct answer\"\n",
      "    }\n",
      "}\n"
     ]
    }
   ],
   "source": [
    "RESPONSE_JSON = openFile(\"response.json\")\n",
    "print(RESPONSE_JSON)"
   ]
  },
  {
   "cell_type": "code",
   "execution_count": 5,
   "metadata": {},
   "outputs": [],
   "source": [
    "template = \"\"\"\n",
    "Text: {text}\n",
    "You are an expert MCQ maker, Given the above text, it is your job to create a quiz\n",
    "of {number} multiple choice questions for {subject} students in {tone} tone.\n",
    "Make sure the questions are not repeated and all the questions are confirming the text as well.\n",
    "Make sure to format your response like RESPONSE_JSON below and use it as a guide.\n",
    "Ensure to make {number} MCQs.\n",
    "###RESPONSE_JSON\n",
    "{response_json}\n",
    "\"\"\""
   ]
  },
  {
   "cell_type": "code",
   "execution_count": 6,
   "metadata": {},
   "outputs": [],
   "source": [
    "quiz_prompt = PromptTemplate(\n",
    "    input_variables=[\"text\",\"number\",\"subject\",\"tone\",\"response_json\"],\n",
    "    template= template\n",
    "    )"
   ]
  },
  {
   "cell_type": "code",
   "execution_count": 7,
   "metadata": {},
   "outputs": [],
   "source": [
    "quiz_chain = LLMChain(\n",
    "    llm = llm,\n",
    "    prompt = quiz_prompt,\n",
    "    output_key = \"quiz\",\n",
    "    verbose = True\n",
    ")"
   ]
  },
  {
   "cell_type": "code",
   "execution_count": 8,
   "metadata": {},
   "outputs": [],
   "source": [
    "eval_template = \"\"\"\n",
    "You are an expert english grammarian and writer. Given a Multiple Choice Quiz for {subject} students, you need to \n",
    "evaluate the complexity of the question and give a complete analysis of the quiz. Only use at max 50 words for complexity analysis. \n",
    "If the quiz is not at par with the cognitive and analytical abilities of the students, update the quiz questions  \n",
    "which needs to be changed and change the tone such that it perfectly fits the student abilities.\n",
    "Quiz_MCQs:\n",
    "{quiz}\n",
    "\n",
    "Analysis from an expert English Writer of the above quiz:\n",
    "\"\"\""
   ]
  },
  {
   "cell_type": "code",
   "execution_count": 9,
   "metadata": {},
   "outputs": [],
   "source": [
    "eval_prompt = PromptTemplate(\n",
    "    input_variables= [\"quiz\",\"subject\"],\n",
    "    template= eval_template\n",
    ")"
   ]
  },
  {
   "cell_type": "code",
   "execution_count": 10,
   "metadata": {},
   "outputs": [],
   "source": [
    "eval_chain = LLMChain(\n",
    "    llm = llm,\n",
    "    prompt = eval_prompt,\n",
    "    output_key = \"review\",\n",
    "    verbose = True\n",
    ")"
   ]
  },
  {
   "cell_type": "code",
   "execution_count": 11,
   "metadata": {},
   "outputs": [],
   "source": [
    "chain = SequentialChain(chains=[quiz_chain,eval_chain],\n",
    "                        input_variables = [\"text\",\"number\",\"subject\",\"tone\",\"response_json\"],\n",
    "                        output_variables = [\"quiz\",\"review\"] ,\n",
    "                        verbose = True)"
   ]
  },
  {
   "cell_type": "code",
   "execution_count": 21,
   "metadata": {},
   "outputs": [
    {
     "name": "stdout",
     "output_type": "stream",
     "text": [
      "Elon Reeve Musk (/ˈiːlɒn/ EE-lon; born June 28, 1971) is a businessman and investor. He is the founder, chairman, CEO, and CTO of SpaceX; angel investor, CEO, product architect, and former chairman of Tesla, Inc.; owner, executive chairman, and CTO of X Corp.; founder of the Boring Company and xAI; co-founder of Neuralink and OpenAI; and president of the Musk Foundation. He is one of the wealthiest people in the world, with an estimated net worth of US$190 billion as of March 2024, according to the Bloomberg Billionaires Index, and $195 billion according to Forbes, primarily from his ownership stakes in Tesla and SpaceX.[5][6]\n",
      "\n",
      "A member of the wealthy South African Musk family, Elon was born in Pretoria and briefly attended the University of Pretoria before immigrating to Canada at age 18, acquiring citizenship through his Canadian-born mother. Two years later, he matriculated at Queen's University at Kingston in Canada. Musk later transferred to the University of Pennsylvania, and received bachelor's degrees in economics and physics. He moved to California in 1995 to attend Stanford University, but dropped out after two days and, with his brother Kimbal, co-founded online city guide software company Zip2. The startup was acquired by Compaq for $307 million in 1999, and that same year Musk co-founded X.com, a direct bank. X.com merged with Confinity in 2000 to form PayPal.\n",
      "\n",
      "In October 2002, eBay acquired PayPal for $1.5 billion, and that same year, with $100 million of the money he made, Musk founded SpaceX, a spaceflight services company. In 2004, he became an early investor in electric vehicle manufacturer Tesla Motors, Inc. (now Tesla, Inc.). He became its chairman and product architect, assuming the position of CEO in 2008. In 2006, Musk helped create SolarCity, a solar-energy company that was acquired by Tesla in 2016 and became Tesla Energy. In 2013, he proposed a hyperloop high-speed vactrain transportation system. In 2015, he co-founded OpenAI, a nonprofit artificial intelligence research company. The following year, Musk co-founded Neuralink—a neurotechnology company developing brain–computer interfaces—and the Boring Company, a tunnel construction company. In 2022, he acquired Twitter for $44 billion. He subsequently merged the company into newly created X Corp. and rebranded the service as X the following year. In March 2023, he founded xAI, an artificial intelligence company.\n",
      "\n",
      "Musk has expressed views that have made him a polarizing figure.[7] He has been criticized for making unscientific and misleading statements, including COVID-19 misinformation and antisemitic conspiracy theories.[7][8][9][10] His ownership of Twitter has been similarly controversial, being marked by the laying off of a large number of employees, an increase in hate speech and misinformation and disinformation on the website, as well as changes to Twitter Blue verification. In 2018, the U.S. Securities and Exchange Commission (SEC) sued him, alleging that he had falsely announced that he had secured funding for a private takeover of Tesla. To settle the case, Musk stepped down as the chairman of Tesla and paid a $20 million fine.\n"
     ]
    }
   ],
   "source": [
    "data = openFile(\"text.txt\")\n",
    "print(data)"
   ]
  },
  {
   "cell_type": "code",
   "execution_count": 23,
   "metadata": {},
   "outputs": [],
   "source": [
    "args = {\n",
    "    \"text\":data,\n",
    "    \"number\":4,\n",
    "    \"subject\":\"Elon Musk\",\n",
    "    \"tone\":\"simple\",\n",
    "    \"response_json\": RESPONSE_JSON\n",
    "}"
   ]
  },
  {
   "cell_type": "code",
   "execution_count": 24,
   "metadata": {},
   "outputs": [
    {
     "name": "stderr",
     "output_type": "stream",
     "text": [
      "/Users/prateek/Documents/GitHub/MCQ_GenAI/venv/lib/python3.9/site-packages/langchain_core/_api/deprecation.py:117: LangChainDeprecationWarning: The function `__call__` was deprecated in LangChain 0.1.0 and will be removed in 0.2.0. Use invoke instead.\n",
      "  warn_deprecated(\n"
     ]
    },
    {
     "name": "stdout",
     "output_type": "stream",
     "text": [
      "\n",
      "\n",
      "\u001b[1m> Entering new SequentialChain chain...\u001b[0m\n",
      "\n",
      "\n",
      "\u001b[1m> Entering new LLMChain chain...\u001b[0m\n",
      "Prompt after formatting:\n",
      "\u001b[32;1m\u001b[1;3m\n",
      "Text: Elon Reeve Musk (/ˈiːlɒn/ EE-lon; born June 28, 1971) is a businessman and investor. He is the founder, chairman, CEO, and CTO of SpaceX; angel investor, CEO, product architect, and former chairman of Tesla, Inc.; owner, executive chairman, and CTO of X Corp.; founder of the Boring Company and xAI; co-founder of Neuralink and OpenAI; and president of the Musk Foundation. He is one of the wealthiest people in the world, with an estimated net worth of US$190 billion as of March 2024, according to the Bloomberg Billionaires Index, and $195 billion according to Forbes, primarily from his ownership stakes in Tesla and SpaceX.[5][6]\n",
      "\n",
      "A member of the wealthy South African Musk family, Elon was born in Pretoria and briefly attended the University of Pretoria before immigrating to Canada at age 18, acquiring citizenship through his Canadian-born mother. Two years later, he matriculated at Queen's University at Kingston in Canada. Musk later transferred to the University of Pennsylvania, and received bachelor's degrees in economics and physics. He moved to California in 1995 to attend Stanford University, but dropped out after two days and, with his brother Kimbal, co-founded online city guide software company Zip2. The startup was acquired by Compaq for $307 million in 1999, and that same year Musk co-founded X.com, a direct bank. X.com merged with Confinity in 2000 to form PayPal.\n",
      "\n",
      "In October 2002, eBay acquired PayPal for $1.5 billion, and that same year, with $100 million of the money he made, Musk founded SpaceX, a spaceflight services company. In 2004, he became an early investor in electric vehicle manufacturer Tesla Motors, Inc. (now Tesla, Inc.). He became its chairman and product architect, assuming the position of CEO in 2008. In 2006, Musk helped create SolarCity, a solar-energy company that was acquired by Tesla in 2016 and became Tesla Energy. In 2013, he proposed a hyperloop high-speed vactrain transportation system. In 2015, he co-founded OpenAI, a nonprofit artificial intelligence research company. The following year, Musk co-founded Neuralink—a neurotechnology company developing brain–computer interfaces—and the Boring Company, a tunnel construction company. In 2022, he acquired Twitter for $44 billion. He subsequently merged the company into newly created X Corp. and rebranded the service as X the following year. In March 2023, he founded xAI, an artificial intelligence company.\n",
      "\n",
      "Musk has expressed views that have made him a polarizing figure.[7] He has been criticized for making unscientific and misleading statements, including COVID-19 misinformation and antisemitic conspiracy theories.[7][8][9][10] His ownership of Twitter has been similarly controversial, being marked by the laying off of a large number of employees, an increase in hate speech and misinformation and disinformation on the website, as well as changes to Twitter Blue verification. In 2018, the U.S. Securities and Exchange Commission (SEC) sued him, alleging that he had falsely announced that he had secured funding for a private takeover of Tesla. To settle the case, Musk stepped down as the chairman of Tesla and paid a $20 million fine.\n",
      "You are an expert MCQ maker, Given the above text, it is your job to create a quiz\n",
      "of 4 multiple choice questions for Elon Musk students in simple tone.\n",
      "Make sure the questions are not repeated and all the questions are confirming the text as well.\n",
      "Make sure to format your response like RESPONSE_JSON below and use it as a guide.\n",
      "Ensure to make 4 MCQs.\n",
      "###RESPONSE_JSON\n",
      "{\n",
      "    \"1\":{\n",
      "        \"no\":1,\n",
      "        \"mcq\":\"mutiple choice question\",\n",
      "        \"options\":{\n",
      "            \"a\": \"choice here\",\n",
      "            \"b\": \"choice here\",\n",
      "            \"c\": \"choice here\",\n",
      "            \"d\": \"choice here\"\n",
      "        },\n",
      "        \"correct\": \"correct answer\"\n",
      "    },\n",
      "    \"2\":{\n",
      "        \"no\":2,\n",
      "        \"mcq\":\"mutiple choice question\",\n",
      "        \"options\":{\n",
      "            \"a\": \"choice here\",\n",
      "            \"b\": \"choice here\",\n",
      "            \"c\": \"choice here\",\n",
      "            \"d\": \"choice here\"\n",
      "        },\n",
      "        \"correct\": \"correct answer\"\n",
      "    },\n",
      "    \"3\":{\n",
      "        \"no\":3,\n",
      "        \"mcq\":\"mutiple choice question\",\n",
      "        \"options\":{\n",
      "            \"a\": \"choice here\",\n",
      "            \"b\": \"choice here\",\n",
      "            \"c\": \"choice here\",\n",
      "            \"d\": \"choice here\"\n",
      "        },\n",
      "        \"correct\": \"correct answer\"\n",
      "    }\n",
      "}\n",
      "\u001b[0m\n",
      "\n",
      "\u001b[1m> Finished chain.\u001b[0m\n",
      "\n",
      "\n",
      "\u001b[1m> Entering new LLMChain chain...\u001b[0m\n",
      "Prompt after formatting:\n",
      "\u001b[32;1m\u001b[1;3m\n",
      "You are an expert english grammarian and writer. Given a Multiple Choice Quiz for Elon Musk students, you need to \n",
      "evaluate the complexity of the question and give a complete analysis of the quiz. Only use at max 50 words for complexity analysis. \n",
      "If the quiz is not at par with the cognitive and analytical abilities of the students, update the quiz questions  \n",
      "which needs to be changed and change the tone such that it perfectly fits the student abilities.\n",
      "Quiz_MCQs:\n",
      "{\n",
      "    \"1\":{\n",
      "        \"no\":1,\n",
      "        \"mcq\":\"What is Elon Musk's primary role at SpaceX?\",\n",
      "        \"options\":{\n",
      "            \"a\": \"Founder\",\n",
      "            \"b\": \"CEO\",\n",
      "            \"c\": \"CTO\",\n",
      "            \"d\": \"Chairman\"\n",
      "        },\n",
      "        \"correct\": \"a\"\n",
      "    },\n",
      "    \"2\":{\n",
      "        \"no\":2,\n",
      "        \"mcq\":\"Which company did Elon Musk co-found with his brother Kimbal?\",\n",
      "        \"options\":{\n",
      "            \"a\": \"PayPal\",\n",
      "            \"b\": \"Tesla\",\n",
      "            \"c\": \"SpaceX\",\n",
      "            \"d\": \"Zip2\"\n",
      "        },\n",
      "        \"correct\": \"d\"\n",
      "    },\n",
      "    \"3\":{\n",
      "        \"no\":3,\n",
      "        \"mcq\":\"What controversial views has Elon Musk been criticized for?\",\n",
      "        \"options\":{\n",
      "            \"a\": \"COVID-19 misinformation\",\n",
      "            \"b\": \"Antisemitic conspiracy theories\",\n",
      "            \"c\": \"Hate speech\",\n",
      "            \"d\": \"All of the above\"\n",
      "        },\n",
      "        \"correct\": \"d\"\n",
      "    },\n",
      "    \"4\":{\n",
      "        \"no\":4,\n",
      "        \"mcq\":\"Which company did Elon Musk acquire for $44 billion in 2022?\",\n",
      "        \"options\":{\n",
      "            \"a\": \"Tesla\",\n",
      "            \"b\": \"SpaceX\",\n",
      "            \"c\": \"Twitter\",\n",
      "            \"d\": \"PayPal\"\n",
      "        },\n",
      "        \"correct\": \"c\"\n",
      "    }\n",
      "}\n",
      "\n",
      "Analysis from an expert English Writer of the above quiz:\n",
      "\u001b[0m\n",
      "\n",
      "\u001b[1m> Finished chain.\u001b[0m\n",
      "\n",
      "\u001b[1m> Finished chain.\u001b[0m\n"
     ]
    }
   ],
   "source": [
    "with get_openai_callback() as cb:\n",
    "    res = chain(args)"
   ]
  },
  {
   "cell_type": "code",
   "execution_count": 42,
   "metadata": {},
   "outputs": [
    {
     "name": "stdout",
     "output_type": "stream",
     "text": [
      "Total Tokens:1765\n",
      "Prompt Tokens:1420\n",
      "Completion Tokens:345\n",
      "Total Cost:0.0028199999999999996\n"
     ]
    }
   ],
   "source": [
    "# token and cost details of the chain\n",
    "\n",
    "print(f\"Total Tokens:{cb.total_tokens}\")\n",
    "print(f\"Prompt Tokens:{cb.prompt_tokens}\")\n",
    "print(f\"Completion Tokens:{cb.completion_tokens}\")\n",
    "print(f\"Total Cost:{cb.total_cost}\")"
   ]
  },
  {
   "cell_type": "code",
   "execution_count": 25,
   "metadata": {},
   "outputs": [
    {
     "name": "stdout",
     "output_type": "stream",
     "text": [
      "{'text': \"Elon Reeve Musk (/ˈiːlɒn/ EE-lon; born June 28, 1971) is a businessman and investor. He is the founder, chairman, CEO, and CTO of SpaceX; angel investor, CEO, product architect, and former chairman of Tesla, Inc.; owner, executive chairman, and CTO of X Corp.; founder of the Boring Company and xAI; co-founder of Neuralink and OpenAI; and president of the Musk Foundation. He is one of the wealthiest people in the world, with an estimated net worth of US$190 billion as of March 2024, according to the Bloomberg Billionaires Index, and $195 billion according to Forbes, primarily from his ownership stakes in Tesla and SpaceX.[5][6]\\n\\nA member of the wealthy South African Musk family, Elon was born in Pretoria and briefly attended the University of Pretoria before immigrating to Canada at age 18, acquiring citizenship through his Canadian-born mother. Two years later, he matriculated at Queen's University at Kingston in Canada. Musk later transferred to the University of Pennsylvania, and received bachelor's degrees in economics and physics. He moved to California in 1995 to attend Stanford University, but dropped out after two days and, with his brother Kimbal, co-founded online city guide software company Zip2. The startup was acquired by Compaq for $307 million in 1999, and that same year Musk co-founded X.com, a direct bank. X.com merged with Confinity in 2000 to form PayPal.\\n\\nIn October 2002, eBay acquired PayPal for $1.5 billion, and that same year, with $100 million of the money he made, Musk founded SpaceX, a spaceflight services company. In 2004, he became an early investor in electric vehicle manufacturer Tesla Motors, Inc. (now Tesla, Inc.). He became its chairman and product architect, assuming the position of CEO in 2008. In 2006, Musk helped create SolarCity, a solar-energy company that was acquired by Tesla in 2016 and became Tesla Energy. In 2013, he proposed a hyperloop high-speed vactrain transportation system. In 2015, he co-founded OpenAI, a nonprofit artificial intelligence research company. The following year, Musk co-founded Neuralink—a neurotechnology company developing brain–computer interfaces—and the Boring Company, a tunnel construction company. In 2022, he acquired Twitter for $44 billion. He subsequently merged the company into newly created X Corp. and rebranded the service as X the following year. In March 2023, he founded xAI, an artificial intelligence company.\\n\\nMusk has expressed views that have made him a polarizing figure.[7] He has been criticized for making unscientific and misleading statements, including COVID-19 misinformation and antisemitic conspiracy theories.[7][8][9][10] His ownership of Twitter has been similarly controversial, being marked by the laying off of a large number of employees, an increase in hate speech and misinformation and disinformation on the website, as well as changes to Twitter Blue verification. In 2018, the U.S. Securities and Exchange Commission (SEC) sued him, alleging that he had falsely announced that he had secured funding for a private takeover of Tesla. To settle the case, Musk stepped down as the chairman of Tesla and paid a $20 million fine.\", 'number': 4, 'subject': 'Elon Musk', 'tone': 'simple', 'response_json': '{\\n    \"1\":{\\n        \"no\":1,\\n        \"mcq\":\"mutiple choice question\",\\n        \"options\":{\\n            \"a\": \"choice here\",\\n            \"b\": \"choice here\",\\n            \"c\": \"choice here\",\\n            \"d\": \"choice here\"\\n        },\\n        \"correct\": \"correct answer\"\\n    },\\n    \"2\":{\\n        \"no\":2,\\n        \"mcq\":\"mutiple choice question\",\\n        \"options\":{\\n            \"a\": \"choice here\",\\n            \"b\": \"choice here\",\\n            \"c\": \"choice here\",\\n            \"d\": \"choice here\"\\n        },\\n        \"correct\": \"correct answer\"\\n    },\\n    \"3\":{\\n        \"no\":3,\\n        \"mcq\":\"mutiple choice question\",\\n        \"options\":{\\n            \"a\": \"choice here\",\\n            \"b\": \"choice here\",\\n            \"c\": \"choice here\",\\n            \"d\": \"choice here\"\\n        },\\n        \"correct\": \"correct answer\"\\n    }\\n}', 'quiz': '{\\n    \"1\":{\\n        \"no\":1,\\n        \"mcq\":\"What is Elon Musk\\'s primary role at SpaceX?\",\\n        \"options\":{\\n            \"a\": \"Founder\",\\n            \"b\": \"CEO\",\\n            \"c\": \"CTO\",\\n            \"d\": \"Chairman\"\\n        },\\n        \"correct\": \"a\"\\n    },\\n    \"2\":{\\n        \"no\":2,\\n        \"mcq\":\"Which company did Elon Musk co-found with his brother Kimbal?\",\\n        \"options\":{\\n            \"a\": \"PayPal\",\\n            \"b\": \"Tesla\",\\n            \"c\": \"SpaceX\",\\n            \"d\": \"Zip2\"\\n        },\\n        \"correct\": \"d\"\\n    },\\n    \"3\":{\\n        \"no\":3,\\n        \"mcq\":\"What controversial views has Elon Musk been criticized for?\",\\n        \"options\":{\\n            \"a\": \"COVID-19 misinformation\",\\n            \"b\": \"Antisemitic conspiracy theories\",\\n            \"c\": \"Hate speech\",\\n            \"d\": \"All of the above\"\\n        },\\n        \"correct\": \"d\"\\n    },\\n    \"4\":{\\n        \"no\":4,\\n        \"mcq\":\"Which company did Elon Musk acquire for $44 billion in 2022?\",\\n        \"options\":{\\n            \"a\": \"Tesla\",\\n            \"b\": \"SpaceX\",\\n            \"c\": \"Twitter\",\\n            \"d\": \"PayPal\"\\n        },\\n        \"correct\": \"c\"\\n    }\\n}', 'review': \"The complexity of the quiz is appropriate for students familiar with Elon Musk's career and controversies. The questions test knowledge and critical thinking. To better suit student abilities, simplify language and provide hints in questions for easier comprehension.\"}\n"
     ]
    }
   ],
   "source": [
    "print(res)"
   ]
  },
  {
   "cell_type": "code",
   "execution_count": 41,
   "metadata": {},
   "outputs": [
    {
     "data": {
      "text/plain": [
       "dict"
      ]
     },
     "execution_count": 41,
     "metadata": {},
     "output_type": "execute_result"
    }
   ],
   "source": [
    "quiz = res.get('quiz')\n",
    "quiz = json.loads(quiz)\n",
    "type(quiz)"
   ]
  },
  {
   "cell_type": "code",
   "execution_count": 43,
   "metadata": {},
   "outputs": [],
   "source": [
    "quiz_table_data = []\n",
    "for key, value in quiz.items():\n",
    "    mcq = value[\"mcq\"]\n",
    "    options = \" | \".join(\n",
    "        [\n",
    "            f\"{option}: {option_value}\"\n",
    "            for option, option_value in value[\"options\"].items()\n",
    "            ]\n",
    "        )\n",
    "    correct = value[\"correct\"]\n",
    "    quiz_table_data.append({\"MCQ\": mcq, \"Choices\": options, \"Correct\": correct})\n",
    "\n",
    "quizDF = pd.DataFrame(quiz_table_data)"
   ]
  },
  {
   "cell_type": "code",
   "execution_count": 44,
   "metadata": {},
   "outputs": [
    {
     "data": {
      "text/html": [
       "<div>\n",
       "<style scoped>\n",
       "    .dataframe tbody tr th:only-of-type {\n",
       "        vertical-align: middle;\n",
       "    }\n",
       "\n",
       "    .dataframe tbody tr th {\n",
       "        vertical-align: top;\n",
       "    }\n",
       "\n",
       "    .dataframe thead th {\n",
       "        text-align: right;\n",
       "    }\n",
       "</style>\n",
       "<table border=\"1\" class=\"dataframe\">\n",
       "  <thead>\n",
       "    <tr style=\"text-align: right;\">\n",
       "      <th></th>\n",
       "      <th>MCQ</th>\n",
       "      <th>Choices</th>\n",
       "      <th>Correct</th>\n",
       "    </tr>\n",
       "  </thead>\n",
       "  <tbody>\n",
       "    <tr>\n",
       "      <th>0</th>\n",
       "      <td>What is Elon Musk's primary role at SpaceX?</td>\n",
       "      <td>a: Founder | b: CEO | c: CTO | d: Chairman</td>\n",
       "      <td>a</td>\n",
       "    </tr>\n",
       "    <tr>\n",
       "      <th>1</th>\n",
       "      <td>Which company did Elon Musk co-found with his ...</td>\n",
       "      <td>a: PayPal | b: Tesla | c: SpaceX | d: Zip2</td>\n",
       "      <td>d</td>\n",
       "    </tr>\n",
       "    <tr>\n",
       "      <th>2</th>\n",
       "      <td>What controversial views has Elon Musk been cr...</td>\n",
       "      <td>a: COVID-19 misinformation | b: Antisemitic co...</td>\n",
       "      <td>d</td>\n",
       "    </tr>\n",
       "    <tr>\n",
       "      <th>3</th>\n",
       "      <td>Which company did Elon Musk acquire for $44 bi...</td>\n",
       "      <td>a: Tesla | b: SpaceX | c: Twitter | d: PayPal</td>\n",
       "      <td>c</td>\n",
       "    </tr>\n",
       "  </tbody>\n",
       "</table>\n",
       "</div>"
      ],
      "text/plain": [
       "                                                 MCQ  \\\n",
       "0        What is Elon Musk's primary role at SpaceX?   \n",
       "1  Which company did Elon Musk co-found with his ...   \n",
       "2  What controversial views has Elon Musk been cr...   \n",
       "3  Which company did Elon Musk acquire for $44 bi...   \n",
       "\n",
       "                                             Choices Correct  \n",
       "0         a: Founder | b: CEO | c: CTO | d: Chairman       a  \n",
       "1         a: PayPal | b: Tesla | c: SpaceX | d: Zip2       d  \n",
       "2  a: COVID-19 misinformation | b: Antisemitic co...       d  \n",
       "3      a: Tesla | b: SpaceX | c: Twitter | d: PayPal       c  "
      ]
     },
     "execution_count": 44,
     "metadata": {},
     "output_type": "execute_result"
    }
   ],
   "source": [
    "quizDF"
   ]
  }
 ],
 "metadata": {
  "kernelspec": {
   "display_name": "Python 3",
   "language": "python",
   "name": "python3"
  },
  "language_info": {
   "codemirror_mode": {
    "name": "ipython",
    "version": 3
   },
   "file_extension": ".py",
   "mimetype": "text/x-python",
   "name": "python",
   "nbconvert_exporter": "python",
   "pygments_lexer": "ipython3",
   "version": "3.9.19"
  }
 },
 "nbformat": 4,
 "nbformat_minor": 2
}
